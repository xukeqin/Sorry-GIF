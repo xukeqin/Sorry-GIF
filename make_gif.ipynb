{
 "cells": [
  {
   "cell_type": "code",
   "execution_count": 16,
   "metadata": {
    "collapsed": false
   },
   "outputs": [
    {
     "name": "stdout",
     "output_type": "stream",
     "text": [
      "OK\n"
     ]
    }
   ],
   "source": [
    "#-*- coding: UTF-8 -*-  \n",
    "\n",
    "from PIL import Image,ImageFont,ImageDraw\n",
    "import imageio  \n",
    "\n",
    "frames = [] \n",
    "newfont=ImageFont.truetype('heiti.TTF',20)\n",
    "\n",
    "dialogue1=\"好啊\"\n",
    "dialogue2=\"就算你很在测试\"\n",
    "dialogue3=\"就算你狠厉害\"\n",
    "dialogue4=\"我叫你换就换\"\n",
    "dialogue5=\"毕竟我是你爸爸\"\n",
    "dialogue6=\"你是我爸爸了不起啊\"\n",
    "dialogue7=\"Sorry 就是了不起\"\n",
    "dialogue8=\"以后让你天天换\"\n",
    "dialogue9=\"天天换嘎嘎\"\n",
    "\n",
    "\n",
    "for i in range(167):\n",
    "    if i>=10 and i<=12:\n",
    "        im=Image.open('./base/sorry-'+str(i)+'.png') \n",
    "        draw=ImageDraw.Draw(im)  \n",
    "        draw.text((140-len(dialogue1)*10,140),dialogue1,(255,255,255),font=newfont)  \n",
    "        im.save('s-sorry-'+str(i)+'.jpg')\n",
    "        frames.append(imageio.imread('s-sorry-'+str(i)+'.jpg')) \n",
    "    elif i>=26 and i<=35:\n",
    "        im=Image.open('./base/sorry-'+str(i)+'.png') \n",
    "        draw=ImageDraw.Draw(im)  \n",
    "        draw.text((140-len(dialogue2)*10,140),dialogue2,(255,255,255),font=newfont)  \n",
    "        im.save('s-sorry-'+str(i)+'.jpg')\n",
    "        frames.append(imageio.imread('s-sorry-'+str(i)+'.jpg')) \n",
    "    elif i>=43 and i<=59:\n",
    "        im=Image.open('./base/sorry-'+str(i)+'.png') \n",
    "        draw=ImageDraw.Draw(im)  \n",
    "        draw.text((140-len(dialogue3)*10,140),dialogue3,(255,255,255),font=newfont)  \n",
    "        im.save('s-sorry-'+str(i)+'.jpg')\n",
    "        frames.append(imageio.imread('s-sorry-'+str(i)+'.jpg')) \n",
    "    elif i>=61 and i<=79:\n",
    "        im=Image.open('./base/sorry-'+str(i)+'.png') \n",
    "        draw=ImageDraw.Draw(im)  \n",
    "        draw.text((140-len(dialogue4)*10,140),dialogue4,(255,255,255),font=newfont)  \n",
    "        im.save('s-sorry-'+str(i)+'.jpg')\n",
    "        frames.append(imageio.imread('s-sorry-'+str(i)+'.jpg')) \n",
    "    elif i>=81 and i<=92:\n",
    "        im=Image.open('./base/sorry-'+str(i)+'.png') \n",
    "        draw=ImageDraw.Draw(im)  \n",
    "        draw.text((140-len(dialogue5)*10,140),dialogue5,(255,255,255),font=newfont)  \n",
    "        im.save('s-sorry-'+str(i)+'.jpg')\n",
    "        frames.append(imageio.imread('s-sorry-'+str(i)+'.jpg')) \n",
    "    elif i>=96 and i<=104:\n",
    "        im=Image.open('./base/sorry-'+str(i)+'.png') \n",
    "        draw=ImageDraw.Draw(im)  \n",
    "        draw.text((140-len(dialogue6)*10,140),dialogue6,(255,255,255),font=newfont)  \n",
    "        im.save('s-sorry-'+str(i)+'.jpg')\n",
    "        frames.append(imageio.imread('s-sorry-'+str(i)+'.jpg')) \n",
    "    elif i>=111 and i<=130:\n",
    "        im=Image.open('./base/sorry-'+str(i)+'.png') \n",
    "        draw=ImageDraw.Draw(im)  \n",
    "        draw.text((140-len(dialogue7)*10,140),dialogue7,(255,255,255),font=newfont)  \n",
    "        im.save('s-sorry-'+str(i)+'.jpg')\n",
    "        frames.append(imageio.imread('s-sorry-'+str(i)+'.jpg')) \n",
    "    elif i>=145 and i<=156:\n",
    "        im=Image.open('./base/sorry-'+str(i)+'.png') \n",
    "        draw=ImageDraw.Draw(im)  \n",
    "        draw.text((140-len(dialogue8)*10,140),dialogue8,(255,255,255),font=newfont)  \n",
    "        im.save('s-sorry-'+str(i)+'.jpg')\n",
    "        frames.append(imageio.imread('s-sorry-'+str(i)+'.jpg'))\n",
    "    elif i>=157 and i<=166:\n",
    "        im=Image.open('./base/sorry-'+str(i)+'.png') \n",
    "        draw=ImageDraw.Draw(im)  \n",
    "        draw.text((140-len(dialogue9)*10,140),dialogue9,(255,255,255),font=newfont)  \n",
    "        im.save('s-sorry-'+str(i)+'.jpg')\n",
    "        frames.append(imageio.imread('s-sorry-'+str(i)+'.jpg')) \n",
    "    else:\n",
    "        frames.append(imageio.imread('./base/sorry-'+str(i)+'.png')) \n",
    "\n",
    "imageio.mimsave(\"out1.gif\", frames, 'GIF', duration = 0.1)  \n",
    "\n",
    "print(\"OK\")\n",
    "\n"
   ]
  },
  {
   "cell_type": "code",
   "execution_count": null,
   "metadata": {
    "collapsed": true
   },
   "outputs": [],
   "source": []
  }
 ],
 "metadata": {
  "kernelspec": {
   "display_name": "Python 3",
   "language": "python",
   "name": "python3"
  },
  "language_info": {
   "codemirror_mode": {
    "name": "ipython",
    "version": 3
   },
   "file_extension": ".py",
   "mimetype": "text/x-python",
   "name": "python",
   "nbconvert_exporter": "python",
   "pygments_lexer": "ipython3",
   "version": "3.5.3"
  }
 },
 "nbformat": 4,
 "nbformat_minor": 2
}
